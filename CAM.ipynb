{
 "cells": [
  {
   "cell_type": "code",
   "execution_count": null,
   "metadata": {},
   "outputs": [],
   "source": [
    "from torchsummary import summary\n",
    "from torch.autograd import Variable\n",
    "from torch.nn import functional as F\n",
    "import torch\n",
    "import torchvision\n",
    "import numpy as np\n",
    "from torch import nn, optim"
   ]
  },
  {
   "cell_type": "markdown",
   "metadata": {},
   "source": [
    "# define the model"
   ]
  },
  {
   "cell_type": "code",
   "execution_count": null,
   "metadata": {},
   "outputs": [],
   "source": [
    "class test_model(nn.Module):\n",
    "    def __init__(self, num_class):\n",
    "        super(test_model, self).__init__()\n",
    "        self.vgg = torchvision.models.vgg16(pretrained=True)\n",
    "        self.features = nn.Sequential(*list(self.vgg.children())[:-1])\n",
    "        self.fc = nn.Linear(512,num_class)\n",
    "        \n",
    "    def forward(self,x):\n",
    "        x = self.features(x)\n",
    "        x = nn.AdaptiveAvgPool2d(1)(x)\n",
    "        x = x.view(x.size(0),-1)\n",
    "        x = self.fc(x)\n",
    "        return x\n",
    "\n",
    "#summary(model,(3,448,448))   "
   ]
  },
  {
   "cell_type": "code",
   "execution_count": null,
   "metadata": {},
   "outputs": [],
   "source": [
    "model = torch.load('CAM.pkl')\n",
    "model.eval()\n",
    "\n",
    "def hook_feature(module, input, output):\n",
    "    features_blobs.append(output.data.cpu().numpy())\n",
    "    \n",
    "#handel = model._modules.get('features').register_forward_hook(hook_feature)   \n",
    "\n",
    "params = list(model.parameters())   #get the model's params\n",
    "weight_softmax = np.squeeze(params[-2].data.cpu().numpy())  #the last full connect layer's weights\n",
    "print(weight_softmax)"
   ]
  },
  {
   "cell_type": "code",
   "execution_count": null,
   "metadata": {},
   "outputs": [],
   "source": [
    "import cv2 as cv \n",
    "\n",
    "# return the heatmap\n",
    "def returnCAM(feature_conv, weight_softmax, idx):\n",
    "    # generate the class activation maps upsample to img_size\n",
    "    size_upsample = img_size\n",
    "    bz, nc, h, w = feature_conv.shape\n",
    "    cam = weight_softmax[idx].dot(feature_conv.reshape((nc, h*w)))\n",
    "    cam = cam.reshape(h, w)\n",
    "    cam = cam - np.min(cam)\n",
    "    cam_img = cam / np.max(cam)\n",
    "    cam_img = np.uint8(255 * cam_img)\n",
    "    cam_img = cv.resize(cam_img, size_upsample)\n",
    "    return cam_img\n",
    "\n",
    "# forward\n",
    "def predict(img_path):\n",
    "    img = cv.imread(img_path)\n",
    "    img = cv.resize(img,img_size,interpolation=cv.INTER_AREA)\n",
    "    img = img.astype(np.float32).transpose(2,0,1)\n",
    "    img = img.reshape(-1,img.shape[0],img.shape[1],img.shape[2])\n",
    "    img = torch.Tensor(img/255).cuda()\n",
    "    cls = model(img)\n",
    "    cls = cls.detach()\n",
    "    return cls"
   ]
  },
  {
   "cell_type": "markdown",
   "metadata": {},
   "source": [
    "# predict and draw the heatmap"
   ]
  },
  {
   "cell_type": "code",
   "execution_count": null,
   "metadata": {},
   "outputs": [],
   "source": [
    "img_size = (448,448)\n",
    "img_path = '1.jpg'\n",
    "cls_idx = 0  # which class should draw to the heatmap\n",
    "features_blobs = []\n",
    "\n",
    "handel = model.module.features.register_forward_hook(hook_feature) # set hook\n",
    "cls = predict(img_path)\n",
    "handel.remove() # remove hook\n",
    "\n",
    "img = cv.imread(img_path)\n",
    "img = cv.resize(img,img_size)\n",
    "CAMs = returnCAM(features_blobs[0], weight_softmax, cls_idx)\n",
    "heatmap = cv.applyColorMap(cv.resize(CAMs,img_size), cv.COLORMAP_JET)\n",
    "result = heatmap * 0.3 + img * 0.5\n",
    "\n",
    "print(f\"cls {cls}\")\n",
    "\n",
    "# draw heatmap\n",
    "from matplotlib import pyplot as plt \n",
    "\n",
    "plt.figure()\n",
    "plt.imshow(result.astype(np.uint8))\n",
    "plt.show()\n",
    "#cv.imwrite('CAM.jpg', result)"
   ]
  },
  {
   "cell_type": "code",
   "execution_count": null,
   "metadata": {},
   "outputs": [],
   "source": []
  }
 ],
 "metadata": {
  "kernelspec": {
   "display_name": "Python 3",
   "language": "python",
   "name": "python3"
  },
  "language_info": {
   "codemirror_mode": {
    "name": "ipython",
    "version": 3
   },
   "file_extension": ".py",
   "mimetype": "text/x-python",
   "name": "python",
   "nbconvert_exporter": "python",
   "pygments_lexer": "ipython3",
   "version": "3.6.5"
  }
 },
 "nbformat": 4,
 "nbformat_minor": 2
}
